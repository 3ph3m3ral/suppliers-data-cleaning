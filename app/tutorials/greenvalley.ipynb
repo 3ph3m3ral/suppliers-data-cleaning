{
 "cells": [
  {
   "cell_type": "code",
   "execution_count": 7,
   "metadata": {},
   "outputs": [],
   "source": [
    "import pandas as pd\n",
    "import sys"
   ]
  },
  {
   "cell_type": "code",
   "execution_count": 8,
   "metadata": {},
   "outputs": [],
   "source": [
    "input_file_path = 'suppliers_data/greenvalley_aurilis_adjusted.csv'"
   ]
  },
  {
   "cell_type": "code",
   "execution_count": 9,
   "metadata": {},
   "outputs": [],
   "source": [
    "my_csv_path = sys.path[0].replace('tutorials',input_file_path)"
   ]
  },
  {
   "cell_type": "code",
   "execution_count": 10,
   "metadata": {},
   "outputs": [],
   "source": [
    "df = pd.read_csv(my_csv_path, sep=',')"
   ]
  },
  {
   "cell_type": "code",
   "execution_count": 11,
   "metadata": {},
   "outputs": [
    {
     "data": {
      "text/html": [
       "<div>\n",
       "<style scoped>\n",
       "    .dataframe tbody tr th:only-of-type {\n",
       "        vertical-align: middle;\n",
       "    }\n",
       "\n",
       "    .dataframe tbody tr th {\n",
       "        vertical-align: top;\n",
       "    }\n",
       "\n",
       "    .dataframe thead th {\n",
       "        text-align: right;\n",
       "    }\n",
       "</style>\n",
       "<table border=\"1\" class=\"dataframe\">\n",
       "  <thead>\n",
       "    <tr style=\"text-align: right;\">\n",
       "      <th></th>\n",
       "      <th>Marca</th>\n",
       "      <th>Vettura</th>\n",
       "      <th>Porte</th>\n",
       "      <th>Anno</th>\n",
       "      <th>Unnamed: 4</th>\n",
       "      <th>Tipo Tetto</th>\n",
       "      <th>TettoVetro</th>\n",
       "      <th>KIT</th>\n",
       "      <th>Componibili  PIEDE</th>\n",
       "      <th>TRAVERSE Acc</th>\n",
       "      <th>...</th>\n",
       "      <th>Preassemblate E.O. SW Acc</th>\n",
       "      <th>Alu.1</th>\n",
       "      <th>Quick Acc</th>\n",
       "      <th>Alu.2</th>\n",
       "      <th>FREE LINE</th>\n",
       "      <th>Unnamed: 16</th>\n",
       "      <th>INITIAL</th>\n",
       "      <th>EASY ONE</th>\n",
       "      <th>EVO</th>\n",
       "      <th>Porta Bici Post.</th>\n",
       "    </tr>\n",
       "  </thead>\n",
       "  <tbody>\n",
       "    <tr>\n",
       "      <th>0</th>\n",
       "      <td>Abarth</td>\n",
       "      <td>Abarth</td>\n",
       "      <td>NaN</td>\n",
       "      <td>NaN</td>\n",
       "      <td>NaN</td>\n",
       "      <td>NaN</td>\n",
       "      <td>NaN</td>\n",
       "      <td>NaN</td>\n",
       "      <td>NaN</td>\n",
       "      <td>NaN</td>\n",
       "      <td>...</td>\n",
       "      <td>NaN</td>\n",
       "      <td>NaN</td>\n",
       "      <td>NaN</td>\n",
       "      <td>NaN</td>\n",
       "      <td>NaN</td>\n",
       "      <td>NaN</td>\n",
       "      <td>NaN</td>\n",
       "      <td>NaN</td>\n",
       "      <td>NaN</td>\n",
       "      <td>NaN</td>\n",
       "    </tr>\n",
       "    <tr>\n",
       "      <th>1</th>\n",
       "      <td>Abarth</td>\n",
       "      <td>500</td>\n",
       "      <td>3</td>\n",
       "      <td>2007.0</td>\n",
       "      <td>NaN</td>\n",
       "      <td>Tetto nudo</td>\n",
       "      <td>SI</td>\n",
       "      <td>281.0</td>\n",
       "      <td>500</td>\n",
       "      <td>513</td>\n",
       "      <td>...</td>\n",
       "      <td>NaN</td>\n",
       "      <td>NaN</td>\n",
       "      <td>NaN</td>\n",
       "      <td>NaN</td>\n",
       "      <td>NaN</td>\n",
       "      <td>NaN</td>\n",
       "      <td>NaN</td>\n",
       "      <td>67.0</td>\n",
       "      <td>67.0</td>\n",
       "      <td>NO</td>\n",
       "    </tr>\n",
       "    <tr>\n",
       "      <th>2</th>\n",
       "      <td>Abarth</td>\n",
       "      <td>Punto</td>\n",
       "      <td>3</td>\n",
       "      <td>2005.0</td>\n",
       "      <td>2014.0</td>\n",
       "      <td>Tetto nudo</td>\n",
       "      <td>SI</td>\n",
       "      <td>251.0</td>\n",
       "      <td>500</td>\n",
       "      <td>507</td>\n",
       "      <td>...</td>\n",
       "      <td>NaN</td>\n",
       "      <td>NaN</td>\n",
       "      <td>NaN</td>\n",
       "      <td>NaN</td>\n",
       "      <td>NaN</td>\n",
       "      <td>NaN</td>\n",
       "      <td>NaN</td>\n",
       "      <td>56.0</td>\n",
       "      <td>56.0</td>\n",
       "      <td>NO</td>\n",
       "    </tr>\n",
       "    <tr>\n",
       "      <th>3</th>\n",
       "      <td>Alfa Romeo</td>\n",
       "      <td>Alfa Romeo</td>\n",
       "      <td>NaN</td>\n",
       "      <td>NaN</td>\n",
       "      <td>NaN</td>\n",
       "      <td>NaN</td>\n",
       "      <td>NaN</td>\n",
       "      <td>NaN</td>\n",
       "      <td>NaN</td>\n",
       "      <td>NaN</td>\n",
       "      <td>...</td>\n",
       "      <td>NaN</td>\n",
       "      <td>NaN</td>\n",
       "      <td>NaN</td>\n",
       "      <td>NaN</td>\n",
       "      <td>NaN</td>\n",
       "      <td>NaN</td>\n",
       "      <td>NaN</td>\n",
       "      <td>NaN</td>\n",
       "      <td>NaN</td>\n",
       "      <td>NaN</td>\n",
       "    </tr>\n",
       "    <tr>\n",
       "      <th>4</th>\n",
       "      <td>Alfa Romeo</td>\n",
       "      <td>146</td>\n",
       "      <td>4</td>\n",
       "      <td>1995.0</td>\n",
       "      <td>2001.0</td>\n",
       "      <td>Tetto nudo</td>\n",
       "      <td>NaN</td>\n",
       "      <td>NaN</td>\n",
       "      <td>NaN</td>\n",
       "      <td>NaN</td>\n",
       "      <td>...</td>\n",
       "      <td>NaN</td>\n",
       "      <td>NaN</td>\n",
       "      <td>NaN</td>\n",
       "      <td>NaN</td>\n",
       "      <td>NaN</td>\n",
       "      <td>NaN</td>\n",
       "      <td>NaN</td>\n",
       "      <td>34.0</td>\n",
       "      <td>NaN</td>\n",
       "      <td>NO</td>\n",
       "    </tr>\n",
       "  </tbody>\n",
       "</table>\n",
       "<p>5 rows × 21 columns</p>\n",
       "</div>"
      ],
      "text/plain": [
       "        Marca      Vettura Porte    Anno  Unnamed: 4  Tipo Tetto TettoVetro  \\\n",
       "0      Abarth       Abarth   NaN     NaN         NaN         NaN        NaN   \n",
       "1      Abarth          500     3  2007.0         NaN  Tetto nudo         SI   \n",
       "2      Abarth        Punto     3  2005.0      2014.0  Tetto nudo         SI   \n",
       "3  Alfa Romeo   Alfa Romeo   NaN     NaN         NaN         NaN        NaN   \n",
       "4  Alfa Romeo          146     4  1995.0      2001.0  Tetto nudo        NaN   \n",
       "\n",
       "    KIT    Componibili  PIEDE   TRAVERSE Acc   ... Preassemblate E.O. SW Acc  \\\n",
       "0    NaN                    NaN           NaN  ...                       NaN   \n",
       "1  281.0                    500           513  ...                       NaN   \n",
       "2  251.0                    500           507  ...                       NaN   \n",
       "3    NaN                    NaN           NaN  ...                       NaN   \n",
       "4    NaN                    NaN           NaN  ...                       NaN   \n",
       "\n",
       "   Alu.1  Quick Acc  Alu.2  FREE LINE  Unnamed: 16 INITIAL EASY ONE   EVO  \\\n",
       "0    NaN        NaN    NaN        NaN          NaN     NaN      NaN   NaN   \n",
       "1    NaN        NaN    NaN        NaN          NaN     NaN     67.0  67.0   \n",
       "2    NaN        NaN    NaN        NaN          NaN     NaN     56.0  56.0   \n",
       "3    NaN        NaN    NaN        NaN          NaN     NaN      NaN   NaN   \n",
       "4    NaN        NaN    NaN        NaN          NaN     NaN     34.0   NaN   \n",
       "\n",
       "   Porta Bici Post.  \n",
       "0               NaN  \n",
       "1                NO  \n",
       "2                NO  \n",
       "3               NaN  \n",
       "4                NO  \n",
       "\n",
       "[5 rows x 21 columns]"
      ]
     },
     "execution_count": 11,
     "metadata": {},
     "output_type": "execute_result"
    }
   ],
   "source": [
    "df.head()"
   ]
  },
  {
   "cell_type": "code",
   "execution_count": 15,
   "metadata": {},
   "outputs": [
    {
     "data": {
      "text/plain": [
       "0          NaN\n",
       "1          NaN\n",
       "2       2014.0\n",
       "3          NaN\n",
       "4       2001.0\n",
       "         ...  \n",
       "1196       NaN\n",
       "1197    2016.0\n",
       "1198    2014.0\n",
       "1199       NaN\n",
       "1200       NaN\n",
       "Name: Unnamed: 4, Length: 1201, dtype: float64"
      ]
     },
     "execution_count": 15,
     "metadata": {},
     "output_type": "execute_result"
    }
   ],
   "source": [
    "df['Unnamed: 4']"
   ]
  },
  {
   "cell_type": "markdown",
   "metadata": {},
   "source": [
    "### Datetime formatting\n",
    "\n",
    "1. Trasforma Anno e Unnamed:4 in integer\n",
    "2. Trasforma Anno e Unnamed:4 in stringe\n",
    "3. Unisci Unnamed:4 ad Anno, e assieme con '-' a separare le stringhe\n",
    "4. Cancella la colonna Unnamed:4"
   ]
  },
  {
   "cell_type": "code",
   "execution_count": 13,
   "metadata": {},
   "outputs": [
    {
     "data": {
      "text/plain": [
       "0          NaN\n",
       "1       2007.0\n",
       "2       2005.0\n",
       "3          NaN\n",
       "4       1995.0\n",
       "         ...  \n",
       "1196    2017.0\n",
       "1197    2007.0\n",
       "1198    2002.0\n",
       "1199    2015.0\n",
       "1200    2015.0\n",
       "Name: Anno, Length: 1201, dtype: float64"
      ]
     },
     "execution_count": 13,
     "metadata": {},
     "output_type": "execute_result"
    }
   ],
   "source": [
    "df['Anno']"
   ]
  },
  {
   "cell_type": "code",
   "execution_count": null,
   "metadata": {},
   "outputs": [],
   "source": []
  },
  {
   "cell_type": "code",
   "execution_count": null,
   "metadata": {},
   "outputs": [],
   "source": []
  }
 ],
 "metadata": {
  "kernelspec": {
   "display_name": "Python 3",
   "language": "python",
   "name": "python3"
  },
  "language_info": {
   "codemirror_mode": {
    "name": "ipython",
    "version": 3
   },
   "file_extension": ".py",
   "mimetype": "text/x-python",
   "name": "python",
   "nbconvert_exporter": "python",
   "pygments_lexer": "ipython3",
   "version": "3.8.10"
  }
 },
 "nbformat": 4,
 "nbformat_minor": 4
}
