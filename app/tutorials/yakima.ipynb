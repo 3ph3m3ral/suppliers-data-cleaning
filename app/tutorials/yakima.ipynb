{
 "cells": [
  {
   "cell_type": "code",
   "execution_count": 1,
   "metadata": {},
   "outputs": [],
   "source": [
    "import pandas as pd\n",
    "import sys"
   ]
  },
  {
   "cell_type": "code",
   "execution_count": 15,
   "metadata": {},
   "outputs": [],
   "source": [
    "input_file_path = 'suppliers_data/yakima_adjusted.csv'"
   ]
  },
  {
   "cell_type": "code",
   "execution_count": 16,
   "metadata": {},
   "outputs": [],
   "source": [
    "my_csv_path = sys.path[0].replace('tutorials',input_file_path)"
   ]
  },
  {
   "cell_type": "code",
   "execution_count": 17,
   "metadata": {},
   "outputs": [],
   "source": [
    "df = pd.read_csv(my_csv_path, sep=',')"
   ]
  },
  {
   "cell_type": "code",
   "execution_count": 18,
   "metadata": {},
   "outputs": [
    {
     "data": {
      "text/html": [
       "<div>\n",
       "<style scoped>\n",
       "    .dataframe tbody tr th:only-of-type {\n",
       "        vertical-align: middle;\n",
       "    }\n",
       "\n",
       "    .dataframe tbody tr th {\n",
       "        vertical-align: top;\n",
       "    }\n",
       "\n",
       "    .dataframe thead th {\n",
       "        text-align: right;\n",
       "    }\n",
       "</style>\n",
       "<table border=\"1\" class=\"dataframe\">\n",
       "  <thead>\n",
       "    <tr style=\"text-align: right;\">\n",
       "      <th></th>\n",
       "      <th>Marca</th>\n",
       "      <th>Modello</th>\n",
       "      <th>Anno</th>\n",
       "      <th>Tipo</th>\n",
       "      <th>KIT-W-Kit</th>\n",
       "      <th>FLUSHBAR Argento</th>\n",
       "      <th>FLUSHBAR MIX Argento \\nW-Flush</th>\n",
       "      <th>THRUBAR Argento W-Through</th>\n",
       "      <th>RAILBAR Argento W-RailBar</th>\n",
       "      <th>RAILBAR MIX Argento W-RailBarMix</th>\n",
       "      <th>FLUSHBAR Nere WB-Flush</th>\n",
       "      <th>FLUSHBAR MIX Nere WB-FlushMix</th>\n",
       "      <th>THRUBAR Nere WB-Through</th>\n",
       "      <th>RAILBAR Nere WB-RailBar</th>\n",
       "      <th>RAILBAR MIX nere WB-RailBarMix</th>\n",
       "      <th>Descrizione tetto</th>\n",
       "    </tr>\n",
       "  </thead>\n",
       "  <tbody>\n",
       "    <tr>\n",
       "      <th>0</th>\n",
       "      <td>Alfa Romeo</td>\n",
       "      <td>146</td>\n",
       "      <td>12/94&gt;12/00</td>\n",
       "      <td>Tetto nudo</td>\n",
       "      <td>YK066W</td>\n",
       "      <td>NaN</td>\n",
       "      <td>NaN</td>\n",
       "      <td>Y8050187</td>\n",
       "      <td>NaN</td>\n",
       "      <td>NaN</td>\n",
       "      <td>NaN</td>\n",
       "      <td>NaN</td>\n",
       "      <td>Y8050227</td>\n",
       "      <td>NaN</td>\n",
       "      <td>NaN</td>\n",
       "      <td>tetto standard</td>\n",
       "    </tr>\n",
       "    <tr>\n",
       "      <th>1</th>\n",
       "      <td>Alfa Romeo</td>\n",
       "      <td>155</td>\n",
       "      <td>01/92&gt;12/97</td>\n",
       "      <td>Tetto nudo</td>\n",
       "      <td>YK066W</td>\n",
       "      <td>NaN</td>\n",
       "      <td>NaN</td>\n",
       "      <td>Y8050187</td>\n",
       "      <td>NaN</td>\n",
       "      <td>NaN</td>\n",
       "      <td>NaN</td>\n",
       "      <td>NaN</td>\n",
       "      <td>Y8050227</td>\n",
       "      <td>NaN</td>\n",
       "      <td>NaN</td>\n",
       "      <td>tetto standard</td>\n",
       "    </tr>\n",
       "    <tr>\n",
       "      <th>2</th>\n",
       "      <td>Alfa Romeo</td>\n",
       "      <td>159 Sportwagon - railing</td>\n",
       "      <td>03/06&gt;09/13</td>\n",
       "      <td>Barre lungitudinali</td>\n",
       "      <td>YK328W</td>\n",
       "      <td>Y8050181</td>\n",
       "      <td>NaN</td>\n",
       "      <td>NaN</td>\n",
       "      <td>NaN</td>\n",
       "      <td>Y8050210</td>\n",
       "      <td>Y8050221</td>\n",
       "      <td>NaN</td>\n",
       "      <td>NaN</td>\n",
       "      <td>NaN</td>\n",
       "      <td>Y8050247</td>\n",
       "      <td>railing standard</td>\n",
       "    </tr>\n",
       "    <tr>\n",
       "      <th>3</th>\n",
       "      <td>Alfa Romeo</td>\n",
       "      <td>Giulia (anche tetto vetro)</td>\n",
       "      <td>06/16&gt;</td>\n",
       "      <td>Tetto nudo</td>\n",
       "      <td>YK1030W</td>\n",
       "      <td>NaN</td>\n",
       "      <td>Y8050194</td>\n",
       "      <td>Y8050188</td>\n",
       "      <td>NaN</td>\n",
       "      <td>NaN</td>\n",
       "      <td>NaN</td>\n",
       "      <td>Y8050233</td>\n",
       "      <td>Y8050228</td>\n",
       "      <td>NaN</td>\n",
       "      <td>NaN</td>\n",
       "      <td>tetto standard</td>\n",
       "    </tr>\n",
       "    <tr>\n",
       "      <th>4</th>\n",
       "      <td>Alfa Romeo</td>\n",
       "      <td>Giulietta (anche tettuccio)</td>\n",
       "      <td>04/10&gt;</td>\n",
       "      <td>Tetto nudo</td>\n",
       "      <td>YK590W</td>\n",
       "      <td>Y8050179</td>\n",
       "      <td>NaN</td>\n",
       "      <td>Y8050187</td>\n",
       "      <td>NaN</td>\n",
       "      <td>NaN</td>\n",
       "      <td>Y8050219</td>\n",
       "      <td>NaN</td>\n",
       "      <td>Y8050227</td>\n",
       "      <td>NaN</td>\n",
       "      <td>NaN</td>\n",
       "      <td>tetto standard</td>\n",
       "    </tr>\n",
       "  </tbody>\n",
       "</table>\n",
       "</div>"
      ],
      "text/plain": [
       "        Marca                      Modello         Anno                 Tipo  \\\n",
       "0  Alfa Romeo                          146  12/94>12/00           Tetto nudo   \n",
       "1  Alfa Romeo                          155  01/92>12/97           Tetto nudo   \n",
       "2  Alfa Romeo     159 Sportwagon - railing  03/06>09/13  Barre lungitudinali   \n",
       "3  Alfa Romeo   Giulia (anche tetto vetro)       06/16>           Tetto nudo   \n",
       "4  Alfa Romeo  Giulietta (anche tettuccio)       04/10>           Tetto nudo   \n",
       "\n",
       "  KIT-W-Kit FLUSHBAR Argento  FLUSHBAR MIX Argento \\nW-Flush  \\\n",
       "0    YK066W               NaN                            NaN   \n",
       "1    YK066W               NaN                            NaN   \n",
       "2    YK328W          Y8050181                            NaN   \n",
       "3   YK1030W               NaN                       Y8050194   \n",
       "4    YK590W          Y8050179                            NaN   \n",
       "\n",
       "  THRUBAR Argento W-Through RAILBAR Argento W-RailBar  \\\n",
       "0                  Y8050187                       NaN   \n",
       "1                  Y8050187                       NaN   \n",
       "2                       NaN                       NaN   \n",
       "3                  Y8050188                       NaN   \n",
       "4                  Y8050187                       NaN   \n",
       "\n",
       "  RAILBAR MIX Argento W-RailBarMix FLUSHBAR Nere WB-Flush  \\\n",
       "0                              NaN                    NaN   \n",
       "1                              NaN                    NaN   \n",
       "2                         Y8050210               Y8050221   \n",
       "3                              NaN                    NaN   \n",
       "4                              NaN               Y8050219   \n",
       "\n",
       "  FLUSHBAR MIX Nere WB-FlushMix THRUBAR Nere WB-Through  \\\n",
       "0                           NaN                Y8050227   \n",
       "1                           NaN                Y8050227   \n",
       "2                           NaN                     NaN   \n",
       "3                      Y8050233                Y8050228   \n",
       "4                           NaN                Y8050227   \n",
       "\n",
       "  RAILBAR Nere WB-RailBar RAILBAR MIX nere WB-RailBarMix  Descrizione tetto  \n",
       "0                     NaN                             NaN    tetto standard  \n",
       "1                     NaN                             NaN    tetto standard  \n",
       "2                     NaN                        Y8050247  railing standard  \n",
       "3                     NaN                             NaN    tetto standard  \n",
       "4                     NaN                             NaN    tetto standard  "
      ]
     },
     "execution_count": 18,
     "metadata": {},
     "output_type": "execute_result"
    }
   ],
   "source": [
    "df.head()"
   ]
  },
  {
   "cell_type": "markdown",
   "metadata": {},
   "source": [
    "### Datetime formatting"
   ]
  },
  {
   "cell_type": "code",
   "execution_count": 21,
   "metadata": {},
   "outputs": [
    {
     "data": {
      "text/plain": [
       "0    12/94>12/00\n",
       "1    01/92>12/97\n",
       "2    03/06>09/13\n",
       "3         06/16>\n",
       "4         04/10>\n",
       "Name: Anno, dtype: object"
      ]
     },
     "execution_count": 21,
     "metadata": {},
     "output_type": "execute_result"
    }
   ],
   "source": [
    "df['Anno'].head()"
   ]
  },
  {
   "cell_type": "code",
   "execution_count": 23,
   "metadata": {},
   "outputs": [],
   "source": [
    "df_adjusted_dates = df['Anno'].copy()\n",
    "\n",
    "for i in range(len(df_adjusted_dates)):\n",
    "    list_of_dates = df_adjusted_dates[i].split('>')\n",
    "\n",
    "    for j in range(len(list_of_dates)):\n",
    "        if len(list_of_dates[j])>1: # if date exist\n",
    "            list_of_dates[j]=list_of_dates[j][3:5] # take only year number\n",
    "            if list_of_dates[j][0] in ('6789'): # 1999 or less  # from 1960 to 1999\n",
    "                list_of_dates[j]='19'+list_of_dates[j] # ex. 90 into 1990\n",
    "            else:                        # 2000 or more\n",
    "                list_of_dates[j]='20'+list_of_dates[j] # ex. 06 into 2006\n",
    "\n",
    "    df_adjusted_dates[i]='-'.join(list_of_dates)\n",
    "\n",
    "df['Anno'] = df_adjusted_dates\n"
   ]
  },
  {
   "cell_type": "code",
   "execution_count": 24,
   "metadata": {},
   "outputs": [
    {
     "data": {
      "text/plain": [
       "0    1994-2000\n",
       "1    1992-1997\n",
       "2    2006-2013\n",
       "3        2016-\n",
       "4        2010-\n",
       "Name: Anno, dtype: object"
      ]
     },
     "execution_count": 24,
     "metadata": {},
     "output_type": "execute_result"
    }
   ],
   "source": [
    "df['Anno'].head()"
   ]
  }
 ],
 "metadata": {
  "kernelspec": {
   "display_name": "Python 3",
   "language": "python",
   "name": "python3"
  },
  "language_info": {
   "codemirror_mode": {
    "name": "ipython",
    "version": 3
   },
   "file_extension": ".py",
   "mimetype": "text/x-python",
   "name": "python",
   "nbconvert_exporter": "python",
   "pygments_lexer": "ipython3",
   "version": "3.8.10"
  }
 },
 "nbformat": 4,
 "nbformat_minor": 4
}
